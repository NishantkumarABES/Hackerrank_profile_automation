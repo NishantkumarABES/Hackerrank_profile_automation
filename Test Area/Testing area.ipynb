{
 "cells": [
  {
   "cell_type": "code",
   "execution_count": 116,
   "id": "796fdb81",
   "metadata": {},
   "outputs": [],
   "source": [
    "# Requied pakages:\n",
    "import os\n",
    "import pandas as pd\n",
    "import requests\n",
    "from bs4 import BeautifulSoup"
   ]
  },
  {
   "cell_type": "code",
   "execution_count": 117,
   "id": "b8c77312",
   "metadata": {},
   "outputs": [
    {
     "data": {
      "text/html": [
       "<div>\n",
       "<style scoped>\n",
       "    .dataframe tbody tr th:only-of-type {\n",
       "        vertical-align: middle;\n",
       "    }\n",
       "\n",
       "    .dataframe tbody tr th {\n",
       "        vertical-align: top;\n",
       "    }\n",
       "\n",
       "    .dataframe thead th {\n",
       "        text-align: right;\n",
       "    }\n",
       "</style>\n",
       "<table border=\"1\" class=\"dataframe\">\n",
       "  <thead>\n",
       "    <tr style=\"text-align: right;\">\n",
       "      <th></th>\n",
       "      <th>0</th>\n",
       "      <th>SNo</th>\n",
       "      <th>Roll No</th>\n",
       "      <th>Name</th>\n",
       "      <th>Hackerrank Id</th>\n",
       "      <th>Unnamed: 5</th>\n",
       "      <th>Unnamed: 6</th>\n",
       "      <th>1</th>\n",
       "      <th>2</th>\n",
       "      <th>3</th>\n",
       "      <th>...</th>\n",
       "      <th>Star Rating</th>\n",
       "      <th>Short/Long Challenge</th>\n",
       "      <th>Unnamed: 239</th>\n",
       "      <th>Unnamed: 240</th>\n",
       "      <th>Unnamed: 241</th>\n",
       "      <th>Unnamed: 242</th>\n",
       "      <th>Unnamed: 243</th>\n",
       "      <th>Unnamed: 244</th>\n",
       "      <th>Maths&gt;=500 &amp;&amp; PS&gt;=4</th>\n",
       "      <th>0.1</th>\n",
       "    </tr>\n",
       "  </thead>\n",
       "  <tbody>\n",
       "    <tr>\n",
       "      <th>0</th>\n",
       "      <td>1</td>\n",
       "      <td>1</td>\n",
       "      <td>2.200000e+12</td>\n",
       "      <td>AARYAN PANDEY</td>\n",
       "      <td>aaryanpandey237</td>\n",
       "      <td>NaN</td>\n",
       "      <td>NaN</td>\n",
       "      <td>1.0</td>\n",
       "      <td>1.0</td>\n",
       "      <td>1.0</td>\n",
       "      <td>...</td>\n",
       "      <td>NaN</td>\n",
       "      <td>NaN</td>\n",
       "      <td>NaN</td>\n",
       "      <td>NaN</td>\n",
       "      <td>NaN</td>\n",
       "      <td>NaN</td>\n",
       "      <td>NaN</td>\n",
       "      <td>NaN</td>\n",
       "      <td>NaN</td>\n",
       "      <td>AARYAN PANDEY</td>\n",
       "    </tr>\n",
       "    <tr>\n",
       "      <th>1</th>\n",
       "      <td>2</td>\n",
       "      <td>2</td>\n",
       "      <td>2.200000e+12</td>\n",
       "      <td>AAYUSH KUMAR</td>\n",
       "      <td>aayush12a19284</td>\n",
       "      <td>NaN</td>\n",
       "      <td>NaN</td>\n",
       "      <td>1.0</td>\n",
       "      <td>1.0</td>\n",
       "      <td>1.0</td>\n",
       "      <td>...</td>\n",
       "      <td>NaN</td>\n",
       "      <td>NaN</td>\n",
       "      <td>Certification Done</td>\n",
       "      <td>12/16/2023</td>\n",
       "      <td>NaN</td>\n",
       "      <td>NaN</td>\n",
       "      <td>NaN</td>\n",
       "      <td>NaN</td>\n",
       "      <td>NaN</td>\n",
       "      <td></td>\n",
       "    </tr>\n",
       "    <tr>\n",
       "      <th>2</th>\n",
       "      <td>3</td>\n",
       "      <td>3</td>\n",
       "      <td>2.200000e+12</td>\n",
       "      <td>ABHISHEK VISHWAKARMA</td>\n",
       "      <td>abhivish1509</td>\n",
       "      <td>NaN</td>\n",
       "      <td>NaN</td>\n",
       "      <td>1.0</td>\n",
       "      <td>1.0</td>\n",
       "      <td>1.0</td>\n",
       "      <td>...</td>\n",
       "      <td>NaN</td>\n",
       "      <td>NaN</td>\n",
       "      <td>NaN</td>\n",
       "      <td>NaN</td>\n",
       "      <td>NaN</td>\n",
       "      <td>NaN</td>\n",
       "      <td>NaN</td>\n",
       "      <td>NaN</td>\n",
       "      <td>NaN</td>\n",
       "      <td></td>\n",
       "    </tr>\n",
       "    <tr>\n",
       "      <th>3</th>\n",
       "      <td>4</td>\n",
       "      <td>4</td>\n",
       "      <td>2.200000e+12</td>\n",
       "      <td>ADARSH MANI</td>\n",
       "      <td>CSEA_22B0101152</td>\n",
       "      <td>NaN</td>\n",
       "      <td>NaN</td>\n",
       "      <td>1.0</td>\n",
       "      <td>1.0</td>\n",
       "      <td>1.0</td>\n",
       "      <td>...</td>\n",
       "      <td>NaN</td>\n",
       "      <td>NaN</td>\n",
       "      <td>Certification Done</td>\n",
       "      <td>NaN</td>\n",
       "      <td>NaN</td>\n",
       "      <td>NaN</td>\n",
       "      <td>NaN</td>\n",
       "      <td>NaN</td>\n",
       "      <td>NaN</td>\n",
       "      <td></td>\n",
       "    </tr>\n",
       "    <tr>\n",
       "      <th>4</th>\n",
       "      <td>5</td>\n",
       "      <td>5</td>\n",
       "      <td>2.200000e+12</td>\n",
       "      <td>ADHISHREE SRIVASTAVA</td>\n",
       "      <td>CSEA_22b0101087</td>\n",
       "      <td>NaN</td>\n",
       "      <td>NaN</td>\n",
       "      <td>NaN</td>\n",
       "      <td>NaN</td>\n",
       "      <td>NaN</td>\n",
       "      <td>...</td>\n",
       "      <td>NaN</td>\n",
       "      <td>NaN</td>\n",
       "      <td>NaN</td>\n",
       "      <td>NaN</td>\n",
       "      <td>NaN</td>\n",
       "      <td>NaN</td>\n",
       "      <td>NaN</td>\n",
       "      <td>NaN</td>\n",
       "      <td>NaN</td>\n",
       "      <td>ADHISHREE SRIVASTAVA</td>\n",
       "    </tr>\n",
       "  </tbody>\n",
       "</table>\n",
       "<p>5 rows × 247 columns</p>\n",
       "</div>"
      ],
      "text/plain": [
       "   0  SNo       Roll No                  Name    Hackerrank Id  Unnamed: 5  \\\n",
       "0  1    1  2.200000e+12         AARYAN PANDEY  aaryanpandey237         NaN   \n",
       "1  2    2  2.200000e+12          AAYUSH KUMAR   aayush12a19284         NaN   \n",
       "2  3    3  2.200000e+12  ABHISHEK VISHWAKARMA     abhivish1509         NaN   \n",
       "3  4    4  2.200000e+12           ADARSH MANI  CSEA_22B0101152         NaN   \n",
       "4  5    5  2.200000e+12  ADHISHREE SRIVASTAVA  CSEA_22b0101087         NaN   \n",
       "\n",
       "   Unnamed: 6    1    2    3  ... Star Rating  Short/Long Challenge  \\\n",
       "0         NaN  1.0  1.0  1.0  ...         NaN                   NaN   \n",
       "1         NaN  1.0  1.0  1.0  ...         NaN                   NaN   \n",
       "2         NaN  1.0  1.0  1.0  ...         NaN                   NaN   \n",
       "3         NaN  1.0  1.0  1.0  ...         NaN                   NaN   \n",
       "4         NaN  NaN  NaN  NaN  ...         NaN                   NaN   \n",
       "\n",
       "         Unnamed: 239  Unnamed: 240  Unnamed: 241  Unnamed: 242  Unnamed: 243  \\\n",
       "0                 NaN           NaN           NaN           NaN           NaN   \n",
       "1  Certification Done    12/16/2023           NaN           NaN           NaN   \n",
       "2                 NaN           NaN           NaN           NaN           NaN   \n",
       "3  Certification Done           NaN           NaN           NaN           NaN   \n",
       "4                 NaN           NaN           NaN           NaN           NaN   \n",
       "\n",
       "   Unnamed: 244  Maths>=500 && PS>=4                   0.1  \n",
       "0           NaN                  NaN         AARYAN PANDEY  \n",
       "1           NaN                  NaN                        \n",
       "2           NaN                  NaN                        \n",
       "3           NaN                  NaN                        \n",
       "4           NaN                  NaN  ADHISHREE SRIVASTAVA  \n",
       "\n",
       "[5 rows x 247 columns]"
      ]
     },
     "execution_count": 117,
     "metadata": {},
     "output_type": "execute_result"
    }
   ],
   "source": [
    "main_data = pd.read_csv(\"Test_data.csv\")\n",
    "main_data.head()"
   ]
  },
  {
   "cell_type": "code",
   "execution_count": 118,
   "id": "57e4e3b7",
   "metadata": {},
   "outputs": [
    {
     "data": {
      "text/html": [
       "<div>\n",
       "<style scoped>\n",
       "    .dataframe tbody tr th:only-of-type {\n",
       "        vertical-align: middle;\n",
       "    }\n",
       "\n",
       "    .dataframe tbody tr th {\n",
       "        vertical-align: top;\n",
       "    }\n",
       "\n",
       "    .dataframe thead th {\n",
       "        text-align: right;\n",
       "    }\n",
       "</style>\n",
       "<table border=\"1\" class=\"dataframe\">\n",
       "  <thead>\n",
       "    <tr style=\"text-align: right;\">\n",
       "      <th></th>\n",
       "      <th>Name</th>\n",
       "      <th>Hackerrank Id</th>\n",
       "    </tr>\n",
       "  </thead>\n",
       "  <tbody>\n",
       "    <tr>\n",
       "      <th>0</th>\n",
       "      <td>AARYAN PANDEY</td>\n",
       "      <td>aaryanpandey237</td>\n",
       "    </tr>\n",
       "    <tr>\n",
       "      <th>1</th>\n",
       "      <td>AAYUSH KUMAR</td>\n",
       "      <td>aayush12a19284</td>\n",
       "    </tr>\n",
       "    <tr>\n",
       "      <th>2</th>\n",
       "      <td>ABHISHEK VISHWAKARMA</td>\n",
       "      <td>abhivish1509</td>\n",
       "    </tr>\n",
       "    <tr>\n",
       "      <th>3</th>\n",
       "      <td>ADARSH MANI</td>\n",
       "      <td>CSEA_22B0101152</td>\n",
       "    </tr>\n",
       "    <tr>\n",
       "      <th>4</th>\n",
       "      <td>ADHISHREE SRIVASTAVA</td>\n",
       "      <td>CSEA_22b0101087</td>\n",
       "    </tr>\n",
       "    <tr>\n",
       "      <th>5</th>\n",
       "      <td>ADITYA KUMAR</td>\n",
       "      <td>NaN</td>\n",
       "    </tr>\n",
       "    <tr>\n",
       "      <th>6</th>\n",
       "      <td>ADITYA KUMAR PIPIL</td>\n",
       "      <td>aditya_22b010112</td>\n",
       "    </tr>\n",
       "    <tr>\n",
       "      <th>7</th>\n",
       "      <td>ADITYA PANCHAL</td>\n",
       "      <td>adityazxcv6</td>\n",
       "    </tr>\n",
       "    <tr>\n",
       "      <th>8</th>\n",
       "      <td>ADITYA SINGH</td>\n",
       "      <td>aditya_22b010102</td>\n",
       "    </tr>\n",
       "    <tr>\n",
       "      <th>9</th>\n",
       "      <td>AJAY KUMAR</td>\n",
       "      <td>ajay_22b0101169</td>\n",
       "    </tr>\n",
       "  </tbody>\n",
       "</table>\n",
       "</div>"
      ],
      "text/plain": [
       "                   Name     Hackerrank Id\n",
       "0         AARYAN PANDEY   aaryanpandey237\n",
       "1          AAYUSH KUMAR    aayush12a19284\n",
       "2  ABHISHEK VISHWAKARMA      abhivish1509\n",
       "3           ADARSH MANI   CSEA_22B0101152\n",
       "4  ADHISHREE SRIVASTAVA   CSEA_22b0101087\n",
       "5          ADITYA KUMAR               NaN\n",
       "6    ADITYA KUMAR PIPIL  aditya_22b010112\n",
       "7        ADITYA PANCHAL       adityazxcv6\n",
       "8          ADITYA SINGH  aditya_22b010102\n",
       "9            AJAY KUMAR   ajay_22b0101169"
      ]
     },
     "execution_count": 118,
     "metadata": {},
     "output_type": "execute_result"
    }
   ],
   "source": [
    "required_data = main_data.iloc[:,3:5]\n",
    "required_data.head(10)"
   ]
  },
  {
   "cell_type": "code",
   "execution_count": 128,
   "id": "a539bd45",
   "metadata": {},
   "outputs": [
    {
     "data": {
      "text/plain": [
       "False"
      ]
     },
     "execution_count": 128,
     "metadata": {},
     "output_type": "execute_result"
    }
   ],
   "source": [
    "tyrequired_data[\"Hackerrank Id\"][0]==float"
   ]
  },
  {
   "cell_type": "code",
   "execution_count": null,
   "id": "1791700a",
   "metadata": {},
   "outputs": [],
   "source": []
  },
  {
   "cell_type": "code",
   "execution_count": 124,
   "id": "10fbb704",
   "metadata": {},
   "outputs": [
    {
     "name": "stdout",
     "output_type": "stream",
     "text": [
      "AKANSHA KASHYAP ID is incorrect\n",
      "AKASH SOLANKI ID is incorrect\n",
      "ANSHIKA GUPTA ID is incorrect\n",
      "ANUSHKA JAISWAL ID is incorrect\n",
      "ARPIT GUPTA ID is incorrect\n",
      "ARUN KUMAR ID is incorrect\n",
      "Failed to retrieve the webpage ASHISH SINGH\n",
      "ASTIKA SINHA ID is incorrect\n",
      "ATHARV MITTAL ID is incorrect\n",
      "DURGESH SINGH CHAUHAN ID is incorrect\n"
     ]
    }
   ],
   "source": [
    "#Data fetcher\n",
    "fetch_data = {}\n",
    "badge_list = [\"Problem Solving\",\"CPP\",\"C language\",\"Python\",\"Java\",\"Ruby\",\n",
    "              \"Sql\",\"Days of Code\",\"Days of JS\",\"Days of Statistics\"]\n",
    "\n",
    "for index in range(len(required_data)):\n",
    "    if type(required_data[\"Hackerrank Id\"][index]) == float:\n",
    "        print(required_data[\"Name\"][index]+\" ID is not avaliable\")\n",
    "        continue\n",
    "    url = r\"https://www.hackerrank.com/profile\"+\"//\"+str(required_data[\"Hackerrank Id\"][index])\n",
    "    agent = {\"User-Agent\":'Chrome/123.0.6312.86'}\n",
    "    response = requests.get(url,headers=agent)\n",
    "    if response.status_code == 200:\n",
    "        user_data = {}\n",
    "        temp = {}\n",
    "        main_html_parser = BeautifulSoup(response.text, 'html.parser')\n",
    "        check = main_html_parser.find(class_=\"cdn-error-view\")\n",
    "        if check != None:\n",
    "            print(required_data[\"Name\"][index]+\" ID is incorrect\")\n",
    "            continue\n",
    "        badges = main_html_parser.find_all(class_=\"hacker-badge\")\n",
    "        for i,badge_html in enumerate(badges):\n",
    "            badge_html_parser = BeautifulSoup(str(badge_html), 'html.parser')\n",
    "            badge_title = badge_html_parser.find(class_=\"badge-title\").text\n",
    "            stars = len(badge_html_parser.find_all(class_=\"star\"))\n",
    "            user_data[badge_title]=stars\n",
    "\n",
    "        for name in badge_list:\n",
    "            if name in user_data:\n",
    "                temp[name]=user_data[name]\n",
    "            else: temp[name]=0\n",
    "        fetch_data[required_data[\"Name\"][index]] = temp\n",
    "    else:\n",
    "        print('Failed to retrieve the webpage',required_data[\"Name\"][index])\n",
    "        "
   ]
  },
  {
   "cell_type": "code",
   "execution_count": null,
   "id": "371fc3b8",
   "metadata": {},
   "outputs": [],
   "source": []
  },
  {
   "cell_type": "code",
   "execution_count": 125,
   "id": "a29205a3",
   "metadata": {},
   "outputs": [],
   "source": [
    "#converter\n",
    "excel_data = {}\n",
    "for badge_name in badge_list:\n",
    "    temp = {}\n",
    "    for name in fetch_data:\n",
    "        temp[name] = fetch_data[name][badge_name]\n",
    "    excel_data[badge_name]=temp"
   ]
  },
  {
   "cell_type": "code",
   "execution_count": 126,
   "id": "487b1bae",
   "metadata": {},
   "outputs": [
    {
     "data": {
      "text/html": [
       "<div>\n",
       "<style scoped>\n",
       "    .dataframe tbody tr th:only-of-type {\n",
       "        vertical-align: middle;\n",
       "    }\n",
       "\n",
       "    .dataframe tbody tr th {\n",
       "        vertical-align: top;\n",
       "    }\n",
       "\n",
       "    .dataframe thead th {\n",
       "        text-align: right;\n",
       "    }\n",
       "</style>\n",
       "<table border=\"1\" class=\"dataframe\">\n",
       "  <thead>\n",
       "    <tr style=\"text-align: right;\">\n",
       "      <th></th>\n",
       "      <th>Problem Solving</th>\n",
       "      <th>CPP</th>\n",
       "      <th>C language</th>\n",
       "      <th>Python</th>\n",
       "      <th>Java</th>\n",
       "      <th>Ruby</th>\n",
       "      <th>Sql</th>\n",
       "      <th>Days of Code</th>\n",
       "      <th>Days of JS</th>\n",
       "      <th>Days of Statistics</th>\n",
       "    </tr>\n",
       "  </thead>\n",
       "  <tbody>\n",
       "    <tr>\n",
       "      <th>AARYAN PANDEY</th>\n",
       "      <td>2</td>\n",
       "      <td>0</td>\n",
       "      <td>0</td>\n",
       "      <td>0</td>\n",
       "      <td>0</td>\n",
       "      <td>0</td>\n",
       "      <td>0</td>\n",
       "      <td>0</td>\n",
       "      <td>0</td>\n",
       "      <td>0</td>\n",
       "    </tr>\n",
       "    <tr>\n",
       "      <th>AAYUSH KUMAR</th>\n",
       "      <td>4</td>\n",
       "      <td>0</td>\n",
       "      <td>0</td>\n",
       "      <td>0</td>\n",
       "      <td>0</td>\n",
       "      <td>0</td>\n",
       "      <td>0</td>\n",
       "      <td>0</td>\n",
       "      <td>0</td>\n",
       "      <td>0</td>\n",
       "    </tr>\n",
       "    <tr>\n",
       "      <th>ABHISHEK VISHWAKARMA</th>\n",
       "      <td>3</td>\n",
       "      <td>1</td>\n",
       "      <td>1</td>\n",
       "      <td>0</td>\n",
       "      <td>0</td>\n",
       "      <td>0</td>\n",
       "      <td>0</td>\n",
       "      <td>0</td>\n",
       "      <td>0</td>\n",
       "      <td>0</td>\n",
       "    </tr>\n",
       "    <tr>\n",
       "      <th>ADARSH MANI</th>\n",
       "      <td>2</td>\n",
       "      <td>0</td>\n",
       "      <td>0</td>\n",
       "      <td>0</td>\n",
       "      <td>0</td>\n",
       "      <td>0</td>\n",
       "      <td>0</td>\n",
       "      <td>0</td>\n",
       "      <td>0</td>\n",
       "      <td>0</td>\n",
       "    </tr>\n",
       "    <tr>\n",
       "      <th>ADHISHREE SRIVASTAVA</th>\n",
       "      <td>0</td>\n",
       "      <td>0</td>\n",
       "      <td>0</td>\n",
       "      <td>0</td>\n",
       "      <td>0</td>\n",
       "      <td>0</td>\n",
       "      <td>0</td>\n",
       "      <td>0</td>\n",
       "      <td>0</td>\n",
       "      <td>0</td>\n",
       "    </tr>\n",
       "    <tr>\n",
       "      <th>ADITYA KUMAR</th>\n",
       "      <td>0</td>\n",
       "      <td>0</td>\n",
       "      <td>0</td>\n",
       "      <td>0</td>\n",
       "      <td>0</td>\n",
       "      <td>0</td>\n",
       "      <td>0</td>\n",
       "      <td>0</td>\n",
       "      <td>0</td>\n",
       "      <td>0</td>\n",
       "    </tr>\n",
       "    <tr>\n",
       "      <th>ADITYA KUMAR PIPIL</th>\n",
       "      <td>0</td>\n",
       "      <td>0</td>\n",
       "      <td>0</td>\n",
       "      <td>0</td>\n",
       "      <td>0</td>\n",
       "      <td>0</td>\n",
       "      <td>0</td>\n",
       "      <td>0</td>\n",
       "      <td>0</td>\n",
       "      <td>0</td>\n",
       "    </tr>\n",
       "    <tr>\n",
       "      <th>ADITYA PANCHAL</th>\n",
       "      <td>5</td>\n",
       "      <td>2</td>\n",
       "      <td>4</td>\n",
       "      <td>0</td>\n",
       "      <td>0</td>\n",
       "      <td>0</td>\n",
       "      <td>0</td>\n",
       "      <td>0</td>\n",
       "      <td>0</td>\n",
       "      <td>0</td>\n",
       "    </tr>\n",
       "    <tr>\n",
       "      <th>ADITYA SINGH</th>\n",
       "      <td>3</td>\n",
       "      <td>0</td>\n",
       "      <td>0</td>\n",
       "      <td>0</td>\n",
       "      <td>0</td>\n",
       "      <td>0</td>\n",
       "      <td>0</td>\n",
       "      <td>0</td>\n",
       "      <td>0</td>\n",
       "      <td>0</td>\n",
       "    </tr>\n",
       "    <tr>\n",
       "      <th>AJAY KUMAR</th>\n",
       "      <td>4</td>\n",
       "      <td>0</td>\n",
       "      <td>0</td>\n",
       "      <td>0</td>\n",
       "      <td>0</td>\n",
       "      <td>0</td>\n",
       "      <td>0</td>\n",
       "      <td>0</td>\n",
       "      <td>0</td>\n",
       "      <td>0</td>\n",
       "    </tr>\n",
       "  </tbody>\n",
       "</table>\n",
       "</div>"
      ],
      "text/plain": [
       "                      Problem Solving  CPP  C language  Python  Java  Ruby  \\\n",
       "AARYAN PANDEY                       2    0           0       0     0     0   \n",
       "AAYUSH KUMAR                        4    0           0       0     0     0   \n",
       "ABHISHEK VISHWAKARMA                3    1           1       0     0     0   \n",
       "ADARSH MANI                         2    0           0       0     0     0   \n",
       "ADHISHREE SRIVASTAVA                0    0           0       0     0     0   \n",
       "ADITYA KUMAR                        0    0           0       0     0     0   \n",
       "ADITYA KUMAR PIPIL                  0    0           0       0     0     0   \n",
       "ADITYA PANCHAL                      5    2           4       0     0     0   \n",
       "ADITYA SINGH                        3    0           0       0     0     0   \n",
       "AJAY KUMAR                          4    0           0       0     0     0   \n",
       "\n",
       "                      Sql  Days of Code  Days of JS  Days of Statistics  \n",
       "AARYAN PANDEY           0             0           0                   0  \n",
       "AAYUSH KUMAR            0             0           0                   0  \n",
       "ABHISHEK VISHWAKARMA    0             0           0                   0  \n",
       "ADARSH MANI             0             0           0                   0  \n",
       "ADHISHREE SRIVASTAVA    0             0           0                   0  \n",
       "ADITYA KUMAR            0             0           0                   0  \n",
       "ADITYA KUMAR PIPIL      0             0           0                   0  \n",
       "ADITYA PANCHAL          0             0           0                   0  \n",
       "ADITYA SINGH            0             0           0                   0  \n",
       "AJAY KUMAR              0             0           0                   0  "
      ]
     },
     "execution_count": 126,
     "metadata": {},
     "output_type": "execute_result"
    }
   ],
   "source": [
    "excel_data = pd.DataFrame(excel_data)\n",
    "excel_data.head(10)"
   ]
  },
  {
   "cell_type": "code",
   "execution_count": 150,
   "id": "d2762499",
   "metadata": {},
   "outputs": [
    {
     "data": {
      "text/plain": [
       "<AxesSubplot: >"
      ]
     },
     "execution_count": 150,
     "metadata": {},
     "output_type": "execute_result"
    },
    {
     "data": {
      "image/png": "[encoded data removed]",
      "text/plain": [
       "<Figure size 640x480 with 1 Axes>"
      ]
     },
     "metadata": {},
     "output_type": "display_data"
    }
   ],
   "source": [
    "import matplotlib.pyplot as plt\n",
    "data_problem_solving = excel_data[\"Problem Solving\"].value_counts(sort = False)\n",
    "data_problem_solving.plot.bar()"
   ]
  },
  {
   "cell_type": "code",
   "execution_count": 151,
   "id": "dc08ac57",
   "metadata": {},
   "outputs": [
    {
     "data": {
      "text/plain": [
       "<AxesSubplot: >"
      ]
     },
     "execution_count": 151,
     "metadata": {},
     "output_type": "execute_result"
    },
    {
     "data": {
      "image/png": "[encoded data removed]",
      "text/plain": [
       "<Figure size 640x480 with 1 Axes>"
      ]
     },
     "metadata": {},
     "output_type": "display_data"
    }
   ],
   "source": [
    "data_problem_solving = excel_data[\"C language\"].value_counts(sort = False)\n",
    "data_problem_solving.plot.bar()"
   ]
  },
  {
   "cell_type": "code",
   "execution_count": 152,
   "id": "7015efef",
   "metadata": {},
   "outputs": [
    {
     "data": {
      "text/plain": [
       "<AxesSubplot: >"
      ]
     },
     "execution_count": 152,
     "metadata": {},
     "output_type": "execute_result"
    },
    {
     "data": {
      "image/png": "[encoded data removed]",
      "text/plain": [
       "<Figure size 640x480 with 1 Axes>"
      ]
     },
     "metadata": {},
     "output_type": "display_data"
    }
   ],
   "source": [
    "data_problem_solving = excel_data[\"Python\"].value_counts(sort = False)\n",
    "data_problem_solving.plot.bar()"
   ]
  },
  {
   "cell_type": "code",
   "execution_count": 153,
   "id": "0c38d636",
   "metadata": {},
   "outputs": [
    {
     "data": {
      "text/plain": [
       "<AxesSubplot: >"
      ]
     },
     "execution_count": 153,
     "metadata": {},
     "output_type": "execute_result"
    },
    {
     "data": {
      "image/png": "[encoded data removed]",
      "text/plain": [
       "<Figure size 640x480 with 1 Axes>"
      ]
     },
     "metadata": {},
     "output_type": "display_data"
    }
   ],
   "source": [
    "import matplotlib.pyplot as plt\n",
    "data_problem_solving = excel_data[\"CPP\"].value_counts(sort = False)\n",
    "data_problem_solving.plot.bar()"
   ]
  },
  {
   "cell_type": "code",
   "execution_count": 154,
   "id": "539a4c97",
   "metadata": {},
   "outputs": [
    {
     "data": {
      "text/plain": [
       "<AxesSubplot: >"
      ]
     },
     "execution_count": 154,
     "metadata": {},
     "output_type": "execute_result"
    },
    {
     "data": {
      "image/png": "[encoded data removed]",
      "text/plain": [
       "<Figure size 640x480 with 1 Axes>"
      ]
     },
     "metadata": {},
     "output_type": "display_data"
    }
   ],
   "source": [
    "import matplotlib.pyplot as plt\n",
    "data_problem_solving = excel_data[\"Java\"].value_counts(sort = False)\n",
    "data_problem_solving.plot.bar()"
   ]
  },
  {
   "cell_type": "code",
   "execution_count": 155,
   "id": "5ae024d9",
   "metadata": {},
   "outputs": [],
   "source": [
    "#excel_data.to_csv(\"CSEA_2-year.csv\")"
   ]
  },
  {
   "cell_type": "code",
   "execution_count": 161,
   "id": "0eb25618",
   "metadata": {},
   "outputs": [
    {
     "name": "stdout",
     "output_type": "stream",
     "text": [
      "['Certificate: Problem Solving (Basic)', 'Certificate: Python (Basic)']\n"
     ]
    }
   ],
   "source": [
    "# fetch Certificates\n",
    "\n",
    "url = \"https://www.hackerrank.com/profile/CSEB_21B0101054\"\n",
    "agent = {\"User-Agent\":'Chrome/123.0.6312.86'}\n",
    "response = requests.get(url,headers=agent)\n",
    "if response.status_code == 200:\n",
    "    certificate_titles = []\n",
    "    main_html_parser = BeautifulSoup(response.text, 'html.parser')\n",
    "    certificates = main_html_parser.find_all(class_=\"certificate_v3 certificate_v3-skill\")\n",
    "    for certificate in certificates:\n",
    "        certificate_titles.append(certificate.find(class_ = \"certificate_v3-heading\").text)\n",
    "\n",
    "print(certificate_titles)"
   ]
  },
  {
   "cell_type": "code",
   "execution_count": null,
   "id": "74234018",
   "metadata": {},
   "outputs": [],
   "source": []
  },
  {
   "cell_type": "code",
   "execution_count": null,
   "id": "47195dcd",
   "metadata": {},
   "outputs": [],
   "source": []
  }
 ],
 "metadata": {
  "kernelspec": {
   "display_name": "Python 3 (ipykernel)",
   "language": "python",
   "name": "python3"
  },
  "language_info": {
   "codemirror_mode": {
    "name": "ipython",
    "version": 3
   },
   "file_extension": ".py",
   "mimetype": "text/x-python",
   "name": "python",
   "nbconvert_exporter": "python",
   "pygments_lexer": "ipython3",
   "version": "3.8.8"
  }
 },
 "nbformat": 4,
 "nbformat_minor": 5
}
